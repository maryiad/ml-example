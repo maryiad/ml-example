{
 "cells": [
  {
   "cell_type": "markdown",
   "id": "481591f6-265c-4064-821c-5325bc0ace82",
   "metadata": {
    "tags": []
   },
   "source": [
    "# Полезные команды в Jupyter Notebook\n"
   ]
  },
  {
   "cell_type": "markdown",
   "id": "f607c8d6-fbf7-460b-897e-199f12c9685d",
   "metadata": {
    "tags": []
   },
   "source": [
    "## Системные псевдонимы"
   ]
  },
  {
   "cell_type": "code",
   "execution_count": 19,
   "id": "761c9c6b-f1a6-4966-8e09-f8e44e9db010",
   "metadata": {
    "tags": []
   },
   "outputs": [
    {
     "name": "stdout",
     "output_type": "stream",
     "text": [
      "/home/maryia/myprojects/ml-iot/ml-labs/2023\n"
     ]
    }
   ],
   "source": [
    "!pwd"
   ]
  },
  {
   "cell_type": "code",
   "execution_count": 20,
   "id": "32d34fa9-ebc4-42b4-94bd-0f8f984ea774",
   "metadata": {
    "tags": []
   },
   "outputs": [
    {
     "name": "stdout",
     "output_type": "stream",
     "text": [
      "['Cell Magics.ipynb', 'lab1-task4.ipynb', 'mlreps', 'samplefile.csv', 'somplefile.csv', 'usefull_commands.ipynb', 'Zapasy_produkcii_2000_2009.csv', 'Zapasy_produkcii_2016_2017.csv']\n"
     ]
    }
   ],
   "source": [
    "var = !ls ./\n",
    "print(var)"
   ]
  },
  {
   "cell_type": "markdown",
   "id": "5170c91d-b9d9-4696-96f3-dacee1b97a6f",
   "metadata": {},
   "source": [
    "## Магические функции"
   ]
  },
  {
   "cell_type": "markdown",
   "id": "82e0be48-48c0-41fa-9d1d-959f79aa5170",
   "metadata": {},
   "source": [
    "Пример расчета времени выполнения оператора Python с помощью магической функции %time():"
   ]
  },
  {
   "cell_type": "code",
   "execution_count": 21,
   "id": "725fdc80-d818-4b89-b113-23fb8cc2a423",
   "metadata": {
    "tags": []
   },
   "outputs": [],
   "source": [
    "import time"
   ]
  },
  {
   "cell_type": "code",
   "execution_count": 22,
   "id": "270e4e94-9477-421c-921f-94bfff289c1d",
   "metadata": {
    "tags": []
   },
   "outputs": [
    {
     "name": "stdout",
     "output_type": "stream",
     "text": [
      "CPU times: user 931 µs, sys: 300 µs, total: 1.23 ms\n",
      "Wall time: 5 s\n"
     ]
    }
   ],
   "source": [
    "%time time.sleep(5)"
   ]
  },
  {
   "cell_type": "markdown",
   "id": "74f65e16-bf31-48c9-8189-60705b087e49",
   "metadata": {},
   "source": [
    "Магическая функция %%html поможет запускать HTML-код с помощью ячейки:"
   ]
  },
  {
   "cell_type": "code",
   "execution_count": 23,
   "id": "5613b68d-fca2-40bb-9aac-dce68511afdc",
   "metadata": {
    "tags": []
   },
   "outputs": [
    {
     "data": {
      "text/html": [
       "<marquee style='width: 40%; color: #0000FF;'><b>Применяем анимацию, цвета и начертание!</b></marquee>\n"
      ],
      "text/plain": [
       "<IPython.core.display.HTML object>"
      ]
     },
     "metadata": {},
     "output_type": "display_data"
    }
   ],
   "source": [
    "%%html\n",
    "<marquee style='width: 40%; color: #0000FF;'><b>Применяем анимацию, цвета и начертание!</b></marquee>"
   ]
  },
  {
   "cell_type": "markdown",
   "id": "1da11bcf-6367-4359-ae4a-172fd0b127f3",
   "metadata": {},
   "source": [
    "## Список доступных магических функций"
   ]
  },
  {
   "cell_type": "code",
   "execution_count": 24,
   "id": "179569c5-a9ed-4f4d-9ae0-13a6a7a39f01",
   "metadata": {
    "tags": []
   },
   "outputs": [
    {
     "data": {
      "application/json": {
       "cell": {
        "!": "OSMagics",
        "HTML": "Other",
        "SVG": "Other",
        "bash": "Other",
        "capture": "ExecutionMagics",
        "debug": "ExecutionMagics",
        "file": "Other",
        "html": "DisplayMagics",
        "javascript": "DisplayMagics",
        "js": "DisplayMagics",
        "latex": "DisplayMagics",
        "markdown": "DisplayMagics",
        "perl": "Other",
        "prun": "ExecutionMagics",
        "pypy": "Other",
        "python": "Other",
        "python2": "Other",
        "python3": "Other",
        "ruby": "Other",
        "script": "ScriptMagics",
        "sh": "Other",
        "svg": "DisplayMagics",
        "sx": "OSMagics",
        "system": "OSMagics",
        "time": "ExecutionMagics",
        "timeit": "ExecutionMagics",
        "writefile": "OSMagics"
       },
       "line": {
        "alias": "OSMagics",
        "alias_magic": "BasicMagics",
        "autoawait": "AsyncMagics",
        "autocall": "AutoMagics",
        "automagic": "AutoMagics",
        "autosave": "KernelMagics",
        "bookmark": "OSMagics",
        "cat": "Other",
        "cd": "OSMagics",
        "clear": "KernelMagics",
        "colors": "BasicMagics",
        "conda": "PackagingMagics",
        "config": "ConfigMagics",
        "connect_info": "KernelMagics",
        "cp": "Other",
        "debug": "ExecutionMagics",
        "dhist": "OSMagics",
        "dirs": "OSMagics",
        "doctest_mode": "BasicMagics",
        "ed": "Other",
        "edit": "KernelMagics",
        "env": "OSMagics",
        "gui": "BasicMagics",
        "hist": "Other",
        "history": "HistoryMagics",
        "killbgscripts": "ScriptMagics",
        "ldir": "Other",
        "less": "KernelMagics",
        "lf": "Other",
        "lk": "Other",
        "ll": "Other",
        "load": "CodeMagics",
        "load_ext": "ExtensionMagics",
        "loadpy": "CodeMagics",
        "logoff": "LoggingMagics",
        "logon": "LoggingMagics",
        "logstart": "LoggingMagics",
        "logstate": "LoggingMagics",
        "logstop": "LoggingMagics",
        "ls": "Other",
        "lsmagic": "BasicMagics",
        "lx": "Other",
        "macro": "ExecutionMagics",
        "magic": "BasicMagics",
        "man": "KernelMagics",
        "matplotlib": "PylabMagics",
        "mkdir": "Other",
        "more": "KernelMagics",
        "mv": "Other",
        "notebook": "BasicMagics",
        "page": "BasicMagics",
        "pastebin": "CodeMagics",
        "pdb": "ExecutionMagics",
        "pdef": "NamespaceMagics",
        "pdoc": "NamespaceMagics",
        "pfile": "NamespaceMagics",
        "pinfo": "NamespaceMagics",
        "pinfo2": "NamespaceMagics",
        "pip": "PackagingMagics",
        "popd": "OSMagics",
        "pprint": "BasicMagics",
        "precision": "BasicMagics",
        "prun": "ExecutionMagics",
        "psearch": "NamespaceMagics",
        "psource": "NamespaceMagics",
        "pushd": "OSMagics",
        "pwd": "OSMagics",
        "pycat": "OSMagics",
        "pylab": "PylabMagics",
        "qtconsole": "KernelMagics",
        "quickref": "BasicMagics",
        "recall": "HistoryMagics",
        "rehashx": "OSMagics",
        "reload_ext": "ExtensionMagics",
        "rep": "Other",
        "rerun": "HistoryMagics",
        "reset": "NamespaceMagics",
        "reset_selective": "NamespaceMagics",
        "rm": "Other",
        "rmdir": "Other",
        "run": "ExecutionMagics",
        "save": "CodeMagics",
        "sc": "OSMagics",
        "set_env": "OSMagics",
        "store": "StoreMagics",
        "sx": "OSMagics",
        "system": "OSMagics",
        "tb": "ExecutionMagics",
        "time": "ExecutionMagics",
        "timeit": "ExecutionMagics",
        "unalias": "OSMagics",
        "unload_ext": "ExtensionMagics",
        "who": "NamespaceMagics",
        "who_ls": "NamespaceMagics",
        "whos": "NamespaceMagics",
        "xdel": "NamespaceMagics",
        "xmode": "BasicMagics"
       }
      },
      "text/plain": [
       "Available line magics:\n",
       "%alias  %alias_magic  %autoawait  %autocall  %automagic  %autosave  %bookmark  %cat  %cd  %clear  %colors  %conda  %config  %connect_info  %cp  %debug  %dhist  %dirs  %doctest_mode  %ed  %edit  %env  %gui  %hist  %history  %killbgscripts  %ldir  %less  %lf  %lk  %ll  %load  %load_ext  %loadpy  %logoff  %logon  %logstart  %logstate  %logstop  %ls  %lsmagic  %lx  %macro  %magic  %man  %matplotlib  %mkdir  %more  %mv  %notebook  %page  %pastebin  %pdb  %pdef  %pdoc  %pfile  %pinfo  %pinfo2  %pip  %popd  %pprint  %precision  %prun  %psearch  %psource  %pushd  %pwd  %pycat  %pylab  %qtconsole  %quickref  %recall  %rehashx  %reload_ext  %rep  %rerun  %reset  %reset_selective  %rm  %rmdir  %run  %save  %sc  %set_env  %store  %sx  %system  %tb  %time  %timeit  %unalias  %unload_ext  %who  %who_ls  %whos  %xdel  %xmode\n",
       "\n",
       "Available cell magics:\n",
       "%%!  %%HTML  %%SVG  %%bash  %%capture  %%debug  %%file  %%html  %%javascript  %%js  %%latex  %%markdown  %%perl  %%prun  %%pypy  %%python  %%python2  %%python3  %%ruby  %%script  %%sh  %%svg  %%sx  %%system  %%time  %%timeit  %%writefile\n",
       "\n",
       "Automagic is ON, % prefix IS NOT needed for line magics."
      ]
     },
     "execution_count": 24,
     "metadata": {},
     "output_type": "execute_result"
    }
   ],
   "source": [
    "%lsmagic"
   ]
  },
  {
   "cell_type": "markdown",
   "id": "6c21b4b8-9f7a-4984-9924-9ce4ed297932",
   "metadata": {},
   "source": [
    "## Jupyter Notebook с примерами магических функций"
   ]
  },
  {
   "cell_type": "markdown",
   "id": "c58a37a6-ab06-4dc9-9e32-b073ade95c05",
   "metadata": {},
   "source": [
    "Примеры магических функций представлены на в блокноте [The cell magics in IPython](https://nbviewer.org/github/ipython/ipython/blob/1.x/examples/notebooks/Cell%20Magics.ipynb), опубликованном на сайте [Jupyter nbviewer](https://nbviewer.org).\n",
    "\n",
    "**nbviewer** — это веб-приложение, которое позволяет ввести URL-адрес файла Jupyter Notebook, отображает этот блокнот как статическую веб-страницу HTML и предоставляет постоянную ссылку на неё, которой можно поделиться с другими. **nbviewer** также поддерживает просмотр коллекций блокнотов (например, в репозитории GitHub) и рендеринг блокнотов в других форматах (например, слайдах, сценариях).\n",
    "\n",
    "**nbviewer** — это проект с открытым исходным кодом в рамках более крупной инициативы [Project Jupyter](https://jupyter.org), а также других проектов, таких как [Jupyter Notebook](https://github.com/jupyter/notebook), [JupyterLab](https://github.com/jupyterlab/jupyterlab) и [JupyterHub](https://github.com/jupyterhub/jupyterhub).\n",
    "\n",
    "На веб-сайте [nbviewer.org](https://nbviewer.org) не размещаются блокноты, а только отображаются блокноты, доступные на других веб-сайтах."
   ]
  },
  {
   "cell_type": "code",
   "execution_count": null,
   "id": "0cd79df4-f627-4b50-953e-c6329e65afc3",
   "metadata": {},
   "outputs": [],
   "source": []
  }
 ],
 "metadata": {
  "kernelspec": {
   "display_name": "Python 3 (ipykernel)",
   "language": "python",
   "name": "python3"
  },
  "language_info": {
   "codemirror_mode": {
    "name": "ipython",
    "version": 3
   },
   "file_extension": ".py",
   "mimetype": "text/x-python",
   "name": "python",
   "nbconvert_exporter": "python",
   "pygments_lexer": "ipython3",
   "version": "3.11.4"
  }
 },
 "nbformat": 4,
 "nbformat_minor": 5
}
